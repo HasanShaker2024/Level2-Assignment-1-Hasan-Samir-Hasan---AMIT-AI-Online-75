{
 "cells": [
  {
   "cell_type": "markdown",
   "metadata": {},
   "source": [
    "Assignment 1 : Hasan Samir Hasan - AMIT-AI Online 75"
   ]
  },
  {
   "cell_type": "code",
   "execution_count": 2,
   "metadata": {},
   "outputs": [],
   "source": [
    "import numpy as np"
   ]
  },
  {
   "cell_type": "markdown",
   "metadata": {},
   "source": [
    "1. Write a NumPy program to test whether none of the elements of a given array is zero."
   ]
  },
  {
   "cell_type": "code",
   "execution_count": 14,
   "metadata": {},
   "outputs": [
    {
     "name": "stdout",
     "output_type": "stream",
     "text": [
      "[ True  True False  True  True False  True  True  True False  True  True]\n",
      "[ True  True  True  True  True  True  True  True  True False  True  True]\n"
     ]
    }
   ],
   "source": [
    "v1=np.array([11,5,0,3,6,0,9,5,4,0,2,5])\n",
    "v2=np.array([5,6,7,1,4,9,3,8,1,0,7,9])\n",
    "print(v1!=0)\n",
    "print(v2!=0)\n",
    "#v1[v1!=0]\n"
   ]
  },
  {
   "cell_type": "markdown",
   "metadata": {},
   "source": [
    "2. Write a NumPy program to test whether any of the elements of a given array is non-zero."
   ]
  },
  {
   "cell_type": "code",
   "execution_count": 15,
   "metadata": {},
   "outputs": [
    {
     "name": "stdout",
     "output_type": "stream",
     "text": [
      "True\n",
      "True\n"
     ]
    }
   ],
   "source": [
    "print(np.any(v1==0))\n",
    "print(np.any(v2==0))"
   ]
  },
  {
   "cell_type": "markdown",
   "metadata": {},
   "source": [
    "3. Write a NumPy program to create an element-wise comparison (equal, equal within a tolerance) of two\n",
    "given"
   ]
  },
  {
   "cell_type": "code",
   "execution_count": 16,
   "metadata": {},
   "outputs": [
    {
     "data": {
      "text/plain": [
       "array([False,  True, False, False, False, False, False, False, False,\n",
       "        True, False, False])"
      ]
     },
     "execution_count": 16,
     "metadata": {},
     "output_type": "execute_result"
    }
   ],
   "source": [
    "np.isclose(v1,v2,atol=1)"
   ]
  },
  {
   "cell_type": "markdown",
   "metadata": {},
   "source": [
    "4. Write a NumPy program to create an array of 10 zeros,10 ones, 10 fives.\n"
   ]
  },
  {
   "cell_type": "code",
   "execution_count": 22,
   "metadata": {},
   "outputs": [
    {
     "name": "stdout",
     "output_type": "stream",
     "text": [
      "[0. 0. 0. 0. 0. 0. 0. 0. 0. 0.]\n",
      "[1. 1. 1. 1. 1. 1. 1. 1. 1. 1.]\n",
      "[5 5 5 5 5 5 5 5 5 5]\n"
     ]
    }
   ],
   "source": [
    "zeros10=np.zeros(10)\n",
    "print(zeros10)\n",
    "ones10=np.ones(10)\n",
    "print(ones10)\n",
    "fives10=np.full(10,5)\n",
    "print(fives10)"
   ]
  },
  {
   "cell_type": "markdown",
   "metadata": {},
   "source": [
    "5. Write a NumPy program to create an array of the integers from 30 to70.\n"
   ]
  },
  {
   "cell_type": "code",
   "execution_count": 23,
   "metadata": {},
   "outputs": [
    {
     "name": "stdout",
     "output_type": "stream",
     "text": [
      "[30 31 32 33 34 35 36 37 38 39 40 41 42 43 44 45 46 47 48 49 50 51 52 53\n",
      " 54 55 56 57 58 59 60 61 62 63 64 65 66 67 68 69]\n"
     ]
    }
   ],
   "source": [
    "arr3070=np.arange(30,70)\n",
    "print(arr3070)"
   ]
  },
  {
   "cell_type": "markdown",
   "metadata": {},
   "source": [
    "6. Write a NumPy program to create a 3x3 identity matrix"
   ]
  },
  {
   "cell_type": "code",
   "execution_count": 27,
   "metadata": {},
   "outputs": [
    {
     "name": "stdout",
     "output_type": "stream",
     "text": [
      "[[1. 0. 0.]\n",
      " [0. 1. 0.]\n",
      " [0. 0. 1.]]\n"
     ]
    }
   ],
   "source": [
    "ident3x3=np.identity(3)\n",
    "print(ident3x3)"
   ]
  },
  {
   "cell_type": "markdown",
   "metadata": {},
   "source": [
    "7. Write a NumPy program to generate a random number between 0 and 1\n"
   ]
  },
  {
   "cell_type": "code",
   "execution_count": 40,
   "metadata": {},
   "outputs": [
    {
     "name": "stdout",
     "output_type": "stream",
     "text": [
      "0.03250201783155704\n"
     ]
    }
   ],
   "source": [
    "randnum=np.random.random()\n",
    "print(randnum)"
   ]
  },
  {
   "cell_type": "markdown",
   "metadata": {},
   "source": [
    "8. Write a NumPy program to generate an array of 15 random numbers from a standard normal\n",
    "distribution"
   ]
  },
  {
   "cell_type": "code",
   "execution_count": 44,
   "metadata": {},
   "outputs": [
    {
     "name": "stdout",
     "output_type": "stream",
     "text": [
      "[5.41470717 4.90546999 6.42089563 5.70825521 5.03557222 4.90862385\n",
      " 5.38122618 5.35525386 5.14110705 4.62622045 4.90223438 4.92626202\n",
      " 4.51039116 5.49252475 5.5563171 ]\n"
     ]
    }
   ],
   "source": [
    "randmat=np.random.normal(5,1,size=15)\n",
    "print(randmat)"
   ]
  },
  {
   "cell_type": "markdown",
   "metadata": {},
   "source": [
    "9. Write a NumPy program to create a vector with values ranging from 15 to 55 and print all values\n",
    "except the first and last"
   ]
  },
  {
   "cell_type": "code",
   "execution_count": 55,
   "metadata": {},
   "outputs": [
    {
     "name": "stdout",
     "output_type": "stream",
     "text": [
      "v3 the original: \n",
      "[ 15  16  17  18  19  20  21  22  23  24  25  26  27  28  29  30  31  32\n",
      "  33  34  35  36  37  38  39  40  41  42  43  44  45  46  47  48  49  50\n",
      "  51  52  53  54  55  56  57  58  59  60  61  62  63  64  65  66  67  68\n",
      "  69  70  71  72  73  74  75  76  77  78  79  80  81  82  83  84  85  86\n",
      "  87  88  89  90  91  92  93  94  95  96  97  98  99 100 101 102 103 104\n",
      " 105 106 107 108 109 110 111 112 113 114 115 116 117 118 119 120 121 122\n",
      " 123 124 125 126 127 128 129 130 131 132 133 134 135 136 137 138 139 140\n",
      " 141 142 143 144 145 146 147 148 149 150 151 152 153 154]\n",
      "----------------------------------------------------------------------------------------------------\n",
      "v3 except the first and last values: \n",
      "[ 16  17  18  19  20  21  22  23  24  25  26  27  28  29  30  31  32  33\n",
      "  34  35  36  37  38  39  40  41  42  43  44  45  46  47  48  49  50  51\n",
      "  52  53  54  55  56  57  58  59  60  61  62  63  64  65  66  67  68  69\n",
      "  70  71  72  73  74  75  76  77  78  79  80  81  82  83  84  85  86  87\n",
      "  88  89  90  91  92  93  94  95  96  97  98  99 100 101 102 103 104 105\n",
      " 106 107 108 109 110 111 112 113 114 115 116 117 118 119 120 121 122 123\n",
      " 124 125 126 127 128 129 130 131 132 133 134 135 136 137 138 139 140 141\n",
      " 142 143 144 145 146 147 148 149 150 151 152 153]\n"
     ]
    }
   ],
   "source": [
    "v3=np.arange(15,155)\n",
    "print(\"v3 the original: \")\n",
    "print(v3)\n",
    "print(\"-\"*100)\n",
    "print(\"v3 except the first and last values: \")\n",
    "print(v3[1:-1])\n"
   ]
  },
  {
   "cell_type": "markdown",
   "metadata": {},
   "source": [
    "10. Write a NumPy program to create a vector of length 5 filled with arbitrary integers from 0 to 10\n"
   ]
  },
  {
   "cell_type": "code",
   "execution_count": 83,
   "metadata": {},
   "outputs": [
    {
     "name": "stdout",
     "output_type": "stream",
     "text": [
      "[[ 2  3 10  5  7  2  4  2  6  8  3]]\n"
     ]
    }
   ],
   "source": [
    "v4=np.random.randint(0,11,(1,11))\n",
    "print(v4)"
   ]
  },
  {
   "cell_type": "markdown",
   "metadata": {},
   "source": [
    "11. Write a NumPy program to create a 10x10 matrix, in which the elements on the borders will be equal\n",
    "to 1, and inside 0."
   ]
  },
  {
   "cell_type": "code",
   "execution_count": 106,
   "metadata": {},
   "outputs": [
    {
     "name": "stdout",
     "output_type": "stream",
     "text": [
      "[[1. 1. 1. 1. 1. 1. 1. 1. 1. 1.]\n",
      " [1. 0. 0. 0. 0. 0. 0. 0. 0. 1.]\n",
      " [1. 0. 0. 0. 0. 0. 0. 0. 0. 1.]\n",
      " [1. 0. 0. 0. 0. 0. 0. 0. 0. 1.]\n",
      " [1. 0. 0. 0. 0. 0. 0. 0. 0. 1.]\n",
      " [1. 0. 0. 0. 0. 0. 0. 0. 0. 1.]\n",
      " [1. 0. 0. 0. 0. 0. 0. 0. 0. 1.]\n",
      " [1. 0. 0. 0. 0. 0. 0. 0. 0. 1.]\n",
      " [1. 0. 0. 0. 0. 0. 0. 0. 0. 1.]\n",
      " [1. 1. 1. 1. 1. 1. 1. 1. 1. 1.]]\n",
      "--------------------------------------------------\n",
      "Another Way: \n",
      "[[1. 1. 1. 1. 1. 1. 1. 1. 1. 1.]\n",
      " [1. 0. 0. 0. 0. 0. 0. 0. 0. 1.]\n",
      " [1. 0. 0. 0. 0. 0. 0. 0. 0. 1.]\n",
      " [1. 0. 0. 0. 0. 0. 0. 0. 0. 1.]\n",
      " [1. 0. 0. 0. 0. 0. 0. 0. 0. 1.]\n",
      " [1. 0. 0. 0. 0. 0. 0. 0. 0. 1.]\n",
      " [1. 0. 0. 0. 0. 0. 0. 0. 0. 1.]\n",
      " [1. 0. 0. 0. 0. 0. 0. 0. 0. 1.]\n",
      " [1. 0. 0. 0. 0. 0. 0. 0. 0. 1.]\n",
      " [1. 1. 1. 1. 1. 1. 1. 1. 1. 1.]]\n"
     ]
    }
   ],
   "source": [
    "zeros_mat10x10=np.zeros((10,10))\n",
    "zeros_mat10x10[:1]=1\n",
    "zeros_mat10x10[-1:]=1\n",
    "zeros_mat10x10[:,:1]=1\n",
    "zeros_mat10x10[:,-1:]=1\n",
    "print(zeros_mat10x10)\n",
    "print(\"-\"*50)\n",
    "print(\"Another Way: \")\n",
    "ones_mat10x10=np.ones((10,10))\n",
    "ones_mat10x10[1:-1,1:-1]=0\n",
    "print(ones_mat10x10)"
   ]
  },
  {
   "cell_type": "markdown",
   "metadata": {},
   "source": [
    "Write a NumPy program to create a 5x5 zero matrix with elements on the main diagonal equal to 1, 2,\n",
    "3, 4, 5."
   ]
  },
  {
   "cell_type": "code",
   "execution_count": 108,
   "metadata": {},
   "outputs": [
    {
     "name": "stdout",
     "output_type": "stream",
     "text": [
      "[[1. 0. 0. 0. 0.]\n",
      " [0. 2. 0. 0. 0.]\n",
      " [0. 0. 3. 0. 0.]\n",
      " [0. 0. 0. 4. 0.]\n",
      " [0. 0. 0. 0. 5.]]\n"
     ]
    }
   ],
   "source": [
    "zeros_mat5x5=np.zeros((5,5))\n",
    "np.fill_diagonal(zeros_mat5x5,(1,2,3,4,5))\n",
    "print(zeros_mat5x5)"
   ]
  },
  {
   "cell_type": "markdown",
   "metadata": {},
   "source": [
    "13. Write a NumPy program to create a 4x4 matrix in which 0 and 1 are staggered, with zeros on the main\n",
    "diagonal."
   ]
  },
  {
   "cell_type": "code",
   "execution_count": 138,
   "metadata": {},
   "outputs": [
    {
     "name": "stdout",
     "output_type": "stream",
     "text": [
      "[[0. 1. 0. 1.]\n",
      " [1. 0. 1. 0.]\n",
      " [0. 1. 0. 1.]\n",
      " [1. 0. 1. 0.]]\n"
     ]
    }
   ],
   "source": [
    "mat2=np.zeros((4,4))\n",
    "\n",
    "for i in range(4):\n",
    "    for j in range(4):\n",
    "        if i!=j:\n",
    "            mat2[i,j]=(i+j)%2\n",
    "\n",
    "print(mat2)\n"
   ]
  },
  {
   "cell_type": "markdown",
   "metadata": {},
   "source": [
    "14 . Write a NumPy program to save two given arrays into a single file in compressed format (.npz format)\n",
    "and load it"
   ]
  },
  {
   "cell_type": "code",
   "execution_count": 153,
   "metadata": {},
   "outputs": [
    {
     "name": "stdout",
     "output_type": "stream",
     "text": [
      "[[68 70 87 ... 32 56 19]\n",
      " [69 89 24 ... 46  6 95]\n",
      " [73 73 45 ... 71 60 45]\n",
      " ...\n",
      " [23 89 58 ... 31 87 50]\n",
      " [44 38 51 ... 31 54 34]\n",
      " [46 78 89 ... 71 50 76]]\n",
      "[[464 333 117 ... 190 383 426]\n",
      " [296 337 112 ... 291 189 344]\n",
      " [445 408 493 ... 248 175 221]\n",
      " ...\n",
      " [222 315 454 ... 274 245 392]\n",
      " [336 430 322 ... 246 332 207]\n",
      " [452 322 430 ... 328 398 428]]\n"
     ]
    }
   ],
   "source": [
    "mat3=np.random.randint(0,100,(50,50))\n",
    "mat4=np.random.randint(100,500,(100,100))\n",
    "np.savez(\"my_data.npz\",mat3=mat3,mat4=mat4)\n",
    "\n",
    "my_loaded_data=np.load(\"my_data.npz\")\n",
    "mat3_loaded=my_loaded_data[\"mat3\"]\n",
    "mat4_loaded=my_loaded_data[\"mat4\"]\n",
    "\n",
    "print(mat3_loaded)\n",
    "print(mat4_loaded)\n"
   ]
  },
  {
   "cell_type": "markdown",
   "metadata": {},
   "source": [
    "15. Write a NumPy program to create a one-dimensional array of forty pseudo-randomly generated values."
   ]
  },
  {
   "cell_type": "code",
   "execution_count": 162,
   "metadata": {},
   "outputs": [
    {
     "name": "stdout",
     "output_type": "stream",
     "text": [
      "[1 6 6 9 0 6 4 7 4 7 1 1 9 8 2 3 6 6 9 9 1 5 1 0 5 6 6 2 6 9 8 3 2 1 9 8 3\n",
      " 2 7 8]\n"
     ]
    }
   ],
   "source": [
    "np.random.seed(17)\n",
    "v5=np.random.randint(0,10,size=40)\n",
    "print(v5)"
   ]
  },
  {
   "cell_type": "markdown",
   "metadata": {},
   "source": [
    "16. Write a NumPy program to extract all numbers from a given array which are less and greater than a\n",
    "specified number."
   ]
  },
  {
   "cell_type": "code",
   "execution_count": 237,
   "metadata": {},
   "outputs": [
    {
     "name": "stdout",
     "output_type": "stream",
     "text": [
      "[67 87 79 94 52 98 53 66 98 60 58 93 86 74 83 91]\n",
      "[ 8 24 10 14 24 15 16  9  2  2 13]\n",
      "[24 49 24 31]\n"
     ]
    }
   ],
   "source": [
    "v6=np.array([8,24,67,87,79,49,10,94,52,98,53,66,98,14,24,15,60,58,16,9,93,86,2,2,74,31,13,83,91])\n",
    "\n",
    "print(v6[v6>=50]) # Greater than\n",
    "print(v6[v6<=30]) # Less than\n",
    "print(v6[(v6<50)&(v6>20)]) # Greater and Less than"
   ]
  }
 ],
 "metadata": {
  "kernelspec": {
   "display_name": "Python 3",
   "language": "python",
   "name": "python3"
  },
  "language_info": {
   "codemirror_mode": {
    "name": "ipython",
    "version": 3
   },
   "file_extension": ".py",
   "mimetype": "text/x-python",
   "name": "python",
   "nbconvert_exporter": "python",
   "pygments_lexer": "ipython3",
   "version": "3.12.7"
  }
 },
 "nbformat": 4,
 "nbformat_minor": 2
}
